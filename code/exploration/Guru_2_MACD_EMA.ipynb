{
 "cells": [
  {
   "cell_type": "code",
   "execution_count": 1,
   "id": "d45bb3a8",
   "metadata": {},
   "outputs": [],
   "source": [
    "import sys\n",
    "sys.path.append(\"../\")"
   ]
  },
  {
   "cell_type": "code",
   "execution_count": 2,
   "id": "2276616b",
   "metadata": {},
   "outputs": [],
   "source": [
    "import pandas as pd\n",
    "import datetime as dt\n",
    "from technicals.indicators import MACD\n",
    "from simulation.guru_tester import GuruTester"
   ]
  },
  {
   "cell_type": "code",
   "execution_count": 3,
   "id": "a0d4271d",
   "metadata": {},
   "outputs": [],
   "source": [
    "BUY = 1\n",
    "SELL = -1\n",
    "NONE = 0\n",
    "\n",
    "def apply_signal(row):\n",
    "    if row.direction == BUY and row.mid_l > row.EMA_100:\n",
    "        return BUY\n",
    "    if row.direction == SELL and row.mid_h < row.EMA_100:\n",
    "        return SELL\n",
    "    return NONE        "
   ]
  },
  {
   "cell_type": "code",
   "execution_count": 4,
   "id": "62fd7974",
   "metadata": {},
   "outputs": [],
   "source": [
    "pair = \"EUR_USD\"\n",
    "df_an = pd.read_pickle(f\"../data/{pair}_H1.pkl\")\n",
    "df_m5 = pd.read_pickle(f\"../data/{pair}_M5.pkl\")\n",
    "df_an.reset_index(drop=True, inplace=True)\n",
    "df_m5.reset_index(drop=True, inplace=True)"
   ]
  },
  {
   "cell_type": "code",
   "execution_count": 5,
   "id": "2b8b10d4",
   "metadata": {},
   "outputs": [],
   "source": [
    "df_an = MACD(df_an)\n",
    "df_an['EMA_100'] = df_an.mid_c.ewm(span=100, min_periods=100).mean()\n",
    "df_an.dropna(inplace=True)\n",
    "df_an.reset_index(drop=True, inplace=True)"
   ]
  },
  {
   "cell_type": "code",
   "execution_count": 6,
   "id": "16aaf872",
   "metadata": {},
   "outputs": [],
   "source": [
    "def apply_cross(row):\n",
    "    if row.macd_delta > 0 and row.macd_delta_prev < 0:\n",
    "        return BUY\n",
    "    if row.macd_delta < 0 and row.macd_delta_prev > 0:\n",
    "        return SELL\n",
    "    return NONE "
   ]
  },
  {
   "cell_type": "code",
   "execution_count": 7,
   "id": "def6c439",
   "metadata": {},
   "outputs": [],
   "source": [
    "df_an['macd_delta'] = df_an.MACD - df_an.SIGNAL\n",
    "df_an['macd_delta_prev'] = df_an.macd_delta.shift(1)\n",
    "df_an['direction'] = df_an.apply(apply_cross, axis=1)\n",
    "\n",
    "candle_dir = df_an.mid_c - df_an.mid_o\n",
    "df_an['candle_dir'] = [BUY if x >= 0 else SELL for x in candle_dir]"
   ]
  },
  {
   "cell_type": "code",
   "execution_count": 8,
   "id": "c8d8780e",
   "metadata": {},
   "outputs": [
    {
     "data": {
      "text/plain": [
       "direction\n",
       " 0    34259\n",
       " 1     1477\n",
       "-1     1476\n",
       "Name: count, dtype: int64"
      ]
     },
     "execution_count": 8,
     "metadata": {},
     "output_type": "execute_result"
    }
   ],
   "source": [
    "df_an.direction.value_counts()"
   ]
  },
  {
   "cell_type": "code",
   "execution_count": 9,
   "id": "2c214814",
   "metadata": {
    "scrolled": true
   },
   "outputs": [
    {
     "data": {
      "text/html": [
       "<div>\n",
       "<style scoped>\n",
       "    .dataframe tbody tr th:only-of-type {\n",
       "        vertical-align: middle;\n",
       "    }\n",
       "\n",
       "    .dataframe tbody tr th {\n",
       "        vertical-align: top;\n",
       "    }\n",
       "\n",
       "    .dataframe thead th {\n",
       "        text-align: right;\n",
       "    }\n",
       "</style>\n",
       "<table border=\"1\" class=\"dataframe\">\n",
       "  <thead>\n",
       "    <tr style=\"text-align: right;\">\n",
       "      <th></th>\n",
       "      <th>time</th>\n",
       "      <th>volume</th>\n",
       "      <th>mid_o</th>\n",
       "      <th>mid_h</th>\n",
       "      <th>mid_l</th>\n",
       "      <th>mid_c</th>\n",
       "      <th>bid_o</th>\n",
       "      <th>bid_h</th>\n",
       "      <th>bid_l</th>\n",
       "      <th>bid_c</th>\n",
       "      <th>...</th>\n",
       "      <th>ask_l</th>\n",
       "      <th>ask_c</th>\n",
       "      <th>MACD</th>\n",
       "      <th>SIGNAL</th>\n",
       "      <th>HIST</th>\n",
       "      <th>EMA_100</th>\n",
       "      <th>macd_delta</th>\n",
       "      <th>macd_delta_prev</th>\n",
       "      <th>direction</th>\n",
       "      <th>candle_dir</th>\n",
       "    </tr>\n",
       "  </thead>\n",
       "  <tbody>\n",
       "    <tr>\n",
       "      <th>0</th>\n",
       "      <td>2017-01-09 02:00:00+00:00</td>\n",
       "      <td>368</td>\n",
       "      <td>1.05422</td>\n",
       "      <td>1.05424</td>\n",
       "      <td>1.05327</td>\n",
       "      <td>1.05327</td>\n",
       "      <td>1.05415</td>\n",
       "      <td>1.05417</td>\n",
       "      <td>1.05320</td>\n",
       "      <td>1.05320</td>\n",
       "      <td>...</td>\n",
       "      <td>1.05334</td>\n",
       "      <td>1.05334</td>\n",
       "      <td>-0.000922</td>\n",
       "      <td>-0.000610</td>\n",
       "      <td>-0.000312</td>\n",
       "      <td>1.052805</td>\n",
       "      <td>-0.000312</td>\n",
       "      <td>NaN</td>\n",
       "      <td>0</td>\n",
       "      <td>-1</td>\n",
       "    </tr>\n",
       "    <tr>\n",
       "      <th>1</th>\n",
       "      <td>2017-01-09 03:00:00+00:00</td>\n",
       "      <td>431</td>\n",
       "      <td>1.05324</td>\n",
       "      <td>1.05347</td>\n",
       "      <td>1.05264</td>\n",
       "      <td>1.05298</td>\n",
       "      <td>1.05318</td>\n",
       "      <td>1.05339</td>\n",
       "      <td>1.05257</td>\n",
       "      <td>1.05290</td>\n",
       "      <td>...</td>\n",
       "      <td>1.05271</td>\n",
       "      <td>1.05305</td>\n",
       "      <td>-0.000951</td>\n",
       "      <td>-0.000678</td>\n",
       "      <td>-0.000273</td>\n",
       "      <td>1.052809</td>\n",
       "      <td>-0.000273</td>\n",
       "      <td>-0.000312</td>\n",
       "      <td>0</td>\n",
       "      <td>-1</td>\n",
       "    </tr>\n",
       "    <tr>\n",
       "      <th>2</th>\n",
       "      <td>2017-01-09 04:00:00+00:00</td>\n",
       "      <td>282</td>\n",
       "      <td>1.05300</td>\n",
       "      <td>1.05300</td>\n",
       "      <td>1.05238</td>\n",
       "      <td>1.05266</td>\n",
       "      <td>1.05293</td>\n",
       "      <td>1.05293</td>\n",
       "      <td>1.05231</td>\n",
       "      <td>1.05259</td>\n",
       "      <td>...</td>\n",
       "      <td>1.05245</td>\n",
       "      <td>1.05272</td>\n",
       "      <td>-0.000988</td>\n",
       "      <td>-0.000740</td>\n",
       "      <td>-0.000248</td>\n",
       "      <td>1.052806</td>\n",
       "      <td>-0.000248</td>\n",
       "      <td>-0.000273</td>\n",
       "      <td>0</td>\n",
       "      <td>-1</td>\n",
       "    </tr>\n",
       "    <tr>\n",
       "      <th>3</th>\n",
       "      <td>2017-01-09 05:00:00+00:00</td>\n",
       "      <td>604</td>\n",
       "      <td>1.05264</td>\n",
       "      <td>1.05322</td>\n",
       "      <td>1.05166</td>\n",
       "      <td>1.05240</td>\n",
       "      <td>1.05257</td>\n",
       "      <td>1.05316</td>\n",
       "      <td>1.05157</td>\n",
       "      <td>1.05234</td>\n",
       "      <td>...</td>\n",
       "      <td>1.05174</td>\n",
       "      <td>1.05247</td>\n",
       "      <td>-0.001027</td>\n",
       "      <td>-0.000798</td>\n",
       "      <td>-0.000230</td>\n",
       "      <td>1.052796</td>\n",
       "      <td>-0.000230</td>\n",
       "      <td>-0.000248</td>\n",
       "      <td>0</td>\n",
       "      <td>-1</td>\n",
       "    </tr>\n",
       "    <tr>\n",
       "      <th>4</th>\n",
       "      <td>2017-01-09 06:00:00+00:00</td>\n",
       "      <td>509</td>\n",
       "      <td>1.05238</td>\n",
       "      <td>1.05366</td>\n",
       "      <td>1.05193</td>\n",
       "      <td>1.05327</td>\n",
       "      <td>1.05230</td>\n",
       "      <td>1.05360</td>\n",
       "      <td>1.05186</td>\n",
       "      <td>1.05321</td>\n",
       "      <td>...</td>\n",
       "      <td>1.05200</td>\n",
       "      <td>1.05333</td>\n",
       "      <td>-0.000977</td>\n",
       "      <td>-0.000834</td>\n",
       "      <td>-0.000143</td>\n",
       "      <td>1.052807</td>\n",
       "      <td>-0.000143</td>\n",
       "      <td>-0.000230</td>\n",
       "      <td>0</td>\n",
       "      <td>1</td>\n",
       "    </tr>\n",
       "  </tbody>\n",
       "</table>\n",
       "<p>5 rows × 22 columns</p>\n",
       "</div>"
      ],
      "text/plain": [
       "                       time  volume    mid_o    mid_h    mid_l    mid_c  \\\n",
       "0 2017-01-09 02:00:00+00:00     368  1.05422  1.05424  1.05327  1.05327   \n",
       "1 2017-01-09 03:00:00+00:00     431  1.05324  1.05347  1.05264  1.05298   \n",
       "2 2017-01-09 04:00:00+00:00     282  1.05300  1.05300  1.05238  1.05266   \n",
       "3 2017-01-09 05:00:00+00:00     604  1.05264  1.05322  1.05166  1.05240   \n",
       "4 2017-01-09 06:00:00+00:00     509  1.05238  1.05366  1.05193  1.05327   \n",
       "\n",
       "     bid_o    bid_h    bid_l    bid_c  ...    ask_l    ask_c      MACD  \\\n",
       "0  1.05415  1.05417  1.05320  1.05320  ...  1.05334  1.05334 -0.000922   \n",
       "1  1.05318  1.05339  1.05257  1.05290  ...  1.05271  1.05305 -0.000951   \n",
       "2  1.05293  1.05293  1.05231  1.05259  ...  1.05245  1.05272 -0.000988   \n",
       "3  1.05257  1.05316  1.05157  1.05234  ...  1.05174  1.05247 -0.001027   \n",
       "4  1.05230  1.05360  1.05186  1.05321  ...  1.05200  1.05333 -0.000977   \n",
       "\n",
       "     SIGNAL      HIST   EMA_100  macd_delta  macd_delta_prev  direction  \\\n",
       "0 -0.000610 -0.000312  1.052805   -0.000312              NaN          0   \n",
       "1 -0.000678 -0.000273  1.052809   -0.000273        -0.000312          0   \n",
       "2 -0.000740 -0.000248  1.052806   -0.000248        -0.000273          0   \n",
       "3 -0.000798 -0.000230  1.052796   -0.000230        -0.000248          0   \n",
       "4 -0.000834 -0.000143  1.052807   -0.000143        -0.000230          0   \n",
       "\n",
       "   candle_dir  \n",
       "0          -1  \n",
       "1          -1  \n",
       "2          -1  \n",
       "3          -1  \n",
       "4           1  \n",
       "\n",
       "[5 rows x 22 columns]"
      ]
     },
     "execution_count": 9,
     "metadata": {},
     "output_type": "execute_result"
    }
   ],
   "source": [
    "df_an.head()"
   ]
  },
  {
   "cell_type": "code",
   "execution_count": 10,
   "id": "314355c3",
   "metadata": {},
   "outputs": [],
   "source": [
    "def run_pair(pair, time_d=1):\n",
    "    df_an = pd.read_pickle(f\"../data/{pair}_H{time_d}.pkl\")\n",
    "    df_m5 = pd.read_pickle(f\"../data/{pair}_M5.pkl\")\n",
    "    df_an.reset_index(drop=True, inplace=True)\n",
    "    df_m5.reset_index(drop=True, inplace=True)\n",
    "    df_an = MACD(df_an)\n",
    "    df_an['EMA_100'] = df_an.mid_c.ewm(span=100, min_periods=100).mean()\n",
    "    \n",
    "    df_an['macd_delta'] = df_an.MACD - df_an.SIGNAL\n",
    "    df_an['macd_delta_prev'] = df_an.macd_delta.shift(1)\n",
    "    df_an['direction'] = df_an.apply(apply_cross, axis=1)\n",
    "    candle_dir = df_an.mid_c - df_an.mid_o\n",
    "    df_an['candle_dir'] = [1 if x >= 0 else -1 for x in candle_dir]\n",
    "    \n",
    "    our_cols = ['time', 'mid_o', 'mid_h', 'mid_l', 'mid_c',\n",
    "            'bid_o', 'bid_h', 'bid_l', 'bid_c', \n",
    "            'ask_o', 'ask_h', 'ask_l', 'ask_c',\n",
    "            'direction', 'candle_dir', 'EMA_100']\n",
    "    df_slim = df_an[our_cols].copy()\n",
    "    df_slim.dropna(inplace=True)\n",
    "    \n",
    "    df_slim.reset_index(drop=True, inplace=True)\n",
    "    gt = GuruTester(\n",
    "        df_slim,\n",
    "        apply_signal,\n",
    "        df_m5,\n",
    "        use_spread=True,\n",
    "        time_d = time_d\n",
    "    )\n",
    "    \n",
    "    gt.run_test()\n",
    "    return gt.df_results\n",
    "    "
   ]
  },
  {
   "cell_type": "code",
   "execution_count": null,
   "id": "e43fecd7",
   "metadata": {},
   "outputs": [],
   "source": []
  },
  {
   "cell_type": "code",
   "execution_count": 11,
   "id": "36fab442",
   "metadata": {},
   "outputs": [
    {
     "name": "stdout",
     "output_type": "stream",
     "text": [
      "prepare_data...\n",
      "run_test...\n",
      "Result: -523.5\n",
      "prepare_data...\n",
      "run_test...\n",
      "Result: -51.5\n",
      "prepare_data...\n",
      "run_test...\n",
      "Result: -6.0\n",
      "prepare_data...\n",
      "run_test...\n",
      "Result: -119.0\n"
     ]
    }
   ],
   "source": [
    "res = []\n",
    "for p in [\"AUD_NZD\", \"EUR_USD\", \"GBP_JPY\", \"USD_CAD\" ]:\n",
    "    res.append(dict(pair=p,res=run_pair(p, time_d=1)))"
   ]
  },
  {
   "cell_type": "code",
   "execution_count": 12,
   "id": "d9b1f5f0",
   "metadata": {},
   "outputs": [
    {
     "name": "stdout",
     "output_type": "stream",
     "text": [
      "AUD_NZD -523.5\n",
      "EUR_USD -51.5\n",
      "GBP_JPY -6.0\n",
      "USD_CAD -119.0\n"
     ]
    }
   ],
   "source": [
    "for r in res:\n",
    "    print(r['pair'], r['res'].result.sum())"
   ]
  },
  {
   "cell_type": "code",
   "execution_count": 13,
   "id": "b3aae0b2",
   "metadata": {},
   "outputs": [
    {
     "name": "stdout",
     "output_type": "stream",
     "text": [
      "prepare_data...\n",
      "run_test...\n",
      "Result: -65.0\n",
      "prepare_data...\n",
      "run_test...\n",
      "Result: 10.5\n",
      "prepare_data...\n",
      "run_test...\n",
      "Result: 35.5\n",
      "prepare_data...\n",
      "run_test...\n",
      "Result: -23.0\n",
      "AUD_NZD -65.0\n",
      "EUR_USD 10.5\n",
      "GBP_JPY 35.5\n",
      "USD_CAD -23.0\n"
     ]
    }
   ],
   "source": [
    "res = []\n",
    "for p in [\"AUD_NZD\", \"EUR_USD\", \"GBP_JPY\", \"USD_CAD\" ]:\n",
    "    res.append(dict(pair=p,res=run_pair(p, time_d=4)))\n",
    "for r in res:\n",
    "    print(r['pair'], r['res'].result.sum())"
   ]
  },
  {
   "cell_type": "code",
   "execution_count": null,
   "id": "990d4bde",
   "metadata": {},
   "outputs": [],
   "source": []
  },
  {
   "cell_type": "code",
   "execution_count": null,
   "id": "3f968cf3",
   "metadata": {},
   "outputs": [],
   "source": []
  }
 ],
 "metadata": {
  "kernelspec": {
   "display_name": "Python 3 (ipykernel)",
   "language": "python",
   "name": "python3"
  },
  "language_info": {
   "codemirror_mode": {
    "name": "ipython",
    "version": 3
   },
   "file_extension": ".py",
   "mimetype": "text/x-python",
   "name": "python",
   "nbconvert_exporter": "python",
   "pygments_lexer": "ipython3",
   "version": "3.11.8"
  }
 },
 "nbformat": 4,
 "nbformat_minor": 5
}
